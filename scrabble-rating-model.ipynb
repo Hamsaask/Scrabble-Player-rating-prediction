{
 "cells": [
  {
   "cell_type": "code",
   "execution_count": 1,
   "id": "f5357322",
   "metadata": {
    "_cell_guid": "b1076dfc-b9ad-4769-8c92-a6c4dae69d19",
    "_uuid": "8f2839f25d086af736a60e9eeb907d3b93b6e0e5",
    "execution": {
     "iopub.execute_input": "2022-11-30T09:34:41.014334Z",
     "iopub.status.busy": "2022-11-30T09:34:41.013509Z",
     "iopub.status.idle": "2022-11-30T09:34:42.314010Z",
     "shell.execute_reply": "2022-11-30T09:34:42.312619Z"
    },
    "papermill": {
     "duration": 1.316437,
     "end_time": "2022-11-30T09:34:42.316966",
     "exception": false,
     "start_time": "2022-11-30T09:34:41.000529",
     "status": "completed"
    },
    "tags": []
   },
   "outputs": [
    {
     "name": "stdout",
     "output_type": "stream",
     "text": [
      "/kaggle/input/scrabble-player-rating/sample_submission.csv\n",
      "/kaggle/input/scrabble-player-rating/games.csv\n",
      "/kaggle/input/scrabble-player-rating/turns.csv\n",
      "/kaggle/input/scrabble-player-rating/train.csv\n",
      "/kaggle/input/scrabble-player-rating/test.csv\n"
     ]
    }
   ],
   "source": [
    "# This Python 3 environment comes with many helpful analytics libraries installed\n",
    "# It is defined by the kaggle/python Docker image: https://github.com/kaggle/docker-python\n",
    "# For example, here's several helpful packages to load\n",
    "\n",
    "import numpy as np # linear algebra\n",
    "import pandas as pd # data processing, CSV file I/O (e.g. pd.read_csv)\n",
    "import seaborn as sns \n",
    "import matplotlib.pyplot as plt \n",
    "from sklearn.preprocessing import StandardScaler\n",
    "from sklearn.metrics import mean_absolute_error\n",
    "\n",
    "# Input data files are available in the read-only \"../input/\" directory\n",
    "# For example, running this (by clicking run or pressing Shift+Enter) will list all files under the input directory\n",
    "\n",
    "import os\n",
    "for dirname, _, filenames in os.walk('/kaggle/input'):\n",
    "     for filename in filenames:\n",
    "        print(os.path.join(dirname, filename))\n",
    "\n",
    "# You can write up to 20GB to the current directory (/kaggle/working/) that gets preserved as output when you create a version using \"Save & Run All\" \n",
    "# You can also write temporary files to /kaggle/temp/, but they won't be saved outside of the current session"
   ]
  },
  {
   "cell_type": "code",
   "execution_count": 2,
   "id": "c66da33b",
   "metadata": {
    "execution": {
     "iopub.execute_input": "2022-11-30T09:34:42.339573Z",
     "iopub.status.busy": "2022-11-30T09:34:42.337268Z",
     "iopub.status.idle": "2022-11-30T09:34:47.360595Z",
     "shell.execute_reply": "2022-11-30T09:34:47.359105Z"
    },
    "papermill": {
     "duration": 5.037017,
     "end_time": "2022-11-30T09:34:47.363466",
     "exception": false,
     "start_time": "2022-11-30T09:34:42.326449",
     "status": "completed"
    },
    "tags": []
   },
   "outputs": [],
   "source": [
    "games=pd.read_csv('../input/scrabble-player-rating/games.csv')\n",
    "sample_submission=pd.read_csv('../input/scrabble-player-rating/sample_submission.csv')\n",
    "test=pd.read_csv('../input/scrabble-player-rating/test.csv')\n",
    "train=pd.read_csv('../input/scrabble-player-rating/train.csv')\n",
    "turns=pd.read_csv('../input/scrabble-player-rating/turns.csv')"
   ]
  },
  {
   "cell_type": "markdown",
   "id": "52e7a236",
   "metadata": {
    "papermill": {
     "duration": 0.009011,
     "end_time": "2022-11-30T09:34:47.382768",
     "exception": false,
     "start_time": "2022-11-30T09:34:47.373757",
     "status": "completed"
    },
    "tags": []
   },
   "source": []
  },
  {
   "cell_type": "code",
   "execution_count": 3,
   "id": "13692334",
   "metadata": {
    "execution": {
     "iopub.execute_input": "2022-11-30T09:34:47.403838Z",
     "iopub.status.busy": "2022-11-30T09:34:47.402615Z",
     "iopub.status.idle": "2022-11-30T09:34:47.440798Z",
     "shell.execute_reply": "2022-11-30T09:34:47.439460Z"
    },
    "papermill": {
     "duration": 0.051595,
     "end_time": "2022-11-30T09:34:47.443680",
     "exception": false,
     "start_time": "2022-11-30T09:34:47.392085",
     "status": "completed"
    },
    "tags": []
   },
   "outputs": [
    {
     "data": {
      "text/html": [
       "<div>\n",
       "<style scoped>\n",
       "    .dataframe tbody tr th:only-of-type {\n",
       "        vertical-align: middle;\n",
       "    }\n",
       "\n",
       "    .dataframe tbody tr th {\n",
       "        vertical-align: top;\n",
       "    }\n",
       "\n",
       "    .dataframe thead th {\n",
       "        text-align: right;\n",
       "    }\n",
       "</style>\n",
       "<table border=\"1\" class=\"dataframe\">\n",
       "  <thead>\n",
       "    <tr style=\"text-align: right;\">\n",
       "      <th></th>\n",
       "      <th>game_id</th>\n",
       "      <th>first</th>\n",
       "      <th>time_control_name</th>\n",
       "      <th>game_end_reason</th>\n",
       "      <th>winner</th>\n",
       "      <th>created_at</th>\n",
       "      <th>lexicon</th>\n",
       "      <th>initial_time_seconds</th>\n",
       "      <th>increment_seconds</th>\n",
       "      <th>rating_mode</th>\n",
       "      <th>max_overtime_minutes</th>\n",
       "      <th>game_duration_seconds</th>\n",
       "    </tr>\n",
       "  </thead>\n",
       "  <tbody>\n",
       "    <tr>\n",
       "      <th>0</th>\n",
       "      <td>1</td>\n",
       "      <td>BetterBot</td>\n",
       "      <td>regular</td>\n",
       "      <td>STANDARD</td>\n",
       "      <td>1</td>\n",
       "      <td>2022-08-26 03:38:49</td>\n",
       "      <td>NWL20</td>\n",
       "      <td>1200</td>\n",
       "      <td>0</td>\n",
       "      <td>CASUAL</td>\n",
       "      <td>1</td>\n",
       "      <td>674.844274</td>\n",
       "    </tr>\n",
       "    <tr>\n",
       "      <th>1</th>\n",
       "      <td>2</td>\n",
       "      <td>Super</td>\n",
       "      <td>regular</td>\n",
       "      <td>STANDARD</td>\n",
       "      <td>1</td>\n",
       "      <td>2022-08-10 19:19:59</td>\n",
       "      <td>CSW21</td>\n",
       "      <td>3600</td>\n",
       "      <td>0</td>\n",
       "      <td>RATED</td>\n",
       "      <td>1</td>\n",
       "      <td>364.214418</td>\n",
       "    </tr>\n",
       "    <tr>\n",
       "      <th>2</th>\n",
       "      <td>3</td>\n",
       "      <td>BetterBot</td>\n",
       "      <td>regular</td>\n",
       "      <td>STANDARD</td>\n",
       "      <td>1</td>\n",
       "      <td>2022-09-04 08:04:27</td>\n",
       "      <td>CSW21</td>\n",
       "      <td>900</td>\n",
       "      <td>0</td>\n",
       "      <td>RATED</td>\n",
       "      <td>5</td>\n",
       "      <td>492.268262</td>\n",
       "    </tr>\n",
       "    <tr>\n",
       "      <th>3</th>\n",
       "      <td>4</td>\n",
       "      <td>BetterBot</td>\n",
       "      <td>regular</td>\n",
       "      <td>RESIGNED</td>\n",
       "      <td>0</td>\n",
       "      <td>2022-09-12 02:36:19</td>\n",
       "      <td>CSW21</td>\n",
       "      <td>3600</td>\n",
       "      <td>0</td>\n",
       "      <td>CASUAL</td>\n",
       "      <td>1</td>\n",
       "      <td>350.861141</td>\n",
       "    </tr>\n",
       "    <tr>\n",
       "      <th>4</th>\n",
       "      <td>5</td>\n",
       "      <td>STEEBot</td>\n",
       "      <td>regular</td>\n",
       "      <td>STANDARD</td>\n",
       "      <td>0</td>\n",
       "      <td>2022-09-06 04:31:36</td>\n",
       "      <td>NWL20</td>\n",
       "      <td>1200</td>\n",
       "      <td>0</td>\n",
       "      <td>CASUAL</td>\n",
       "      <td>1</td>\n",
       "      <td>642.688722</td>\n",
       "    </tr>\n",
       "    <tr>\n",
       "      <th>...</th>\n",
       "      <td>...</td>\n",
       "      <td>...</td>\n",
       "      <td>...</td>\n",
       "      <td>...</td>\n",
       "      <td>...</td>\n",
       "      <td>...</td>\n",
       "      <td>...</td>\n",
       "      <td>...</td>\n",
       "      <td>...</td>\n",
       "      <td>...</td>\n",
       "      <td>...</td>\n",
       "      <td>...</td>\n",
       "    </tr>\n",
       "    <tr>\n",
       "      <th>72768</th>\n",
       "      <td>72769</td>\n",
       "      <td>browndav</td>\n",
       "      <td>blitz</td>\n",
       "      <td>STANDARD</td>\n",
       "      <td>0</td>\n",
       "      <td>2022-09-07 13:24:13</td>\n",
       "      <td>CSW21</td>\n",
       "      <td>180</td>\n",
       "      <td>0</td>\n",
       "      <td>RATED</td>\n",
       "      <td>1</td>\n",
       "      <td>218.043751</td>\n",
       "    </tr>\n",
       "    <tr>\n",
       "      <th>72769</th>\n",
       "      <td>72770</td>\n",
       "      <td>HastyBot</td>\n",
       "      <td>regular</td>\n",
       "      <td>TIME</td>\n",
       "      <td>0</td>\n",
       "      <td>2022-09-04 00:13:24</td>\n",
       "      <td>CSW21</td>\n",
       "      <td>3600</td>\n",
       "      <td>0</td>\n",
       "      <td>RATED</td>\n",
       "      <td>1</td>\n",
       "      <td>3662.659287</td>\n",
       "    </tr>\n",
       "    <tr>\n",
       "      <th>72770</th>\n",
       "      <td>72771</td>\n",
       "      <td>HastyBot</td>\n",
       "      <td>regular</td>\n",
       "      <td>STANDARD</td>\n",
       "      <td>0</td>\n",
       "      <td>2022-09-19 03:28:44</td>\n",
       "      <td>ECWL</td>\n",
       "      <td>900</td>\n",
       "      <td>0</td>\n",
       "      <td>CASUAL</td>\n",
       "      <td>10</td>\n",
       "      <td>236.133634</td>\n",
       "    </tr>\n",
       "    <tr>\n",
       "      <th>72771</th>\n",
       "      <td>72772</td>\n",
       "      <td>Gtowngrad</td>\n",
       "      <td>regular</td>\n",
       "      <td>STANDARD</td>\n",
       "      <td>0</td>\n",
       "      <td>2022-08-31 15:57:38</td>\n",
       "      <td>NWL20</td>\n",
       "      <td>900</td>\n",
       "      <td>0</td>\n",
       "      <td>RATED</td>\n",
       "      <td>1</td>\n",
       "      <td>681.370077</td>\n",
       "    </tr>\n",
       "    <tr>\n",
       "      <th>72772</th>\n",
       "      <td>72773</td>\n",
       "      <td>HastyBot</td>\n",
       "      <td>regular</td>\n",
       "      <td>STANDARD</td>\n",
       "      <td>1</td>\n",
       "      <td>2022-08-27 09:13:08</td>\n",
       "      <td>CSW21</td>\n",
       "      <td>1200</td>\n",
       "      <td>0</td>\n",
       "      <td>RATED</td>\n",
       "      <td>1</td>\n",
       "      <td>719.720262</td>\n",
       "    </tr>\n",
       "  </tbody>\n",
       "</table>\n",
       "<p>72773 rows × 12 columns</p>\n",
       "</div>"
      ],
      "text/plain": [
       "       game_id      first time_control_name game_end_reason  winner  \\\n",
       "0            1  BetterBot           regular        STANDARD       1   \n",
       "1            2      Super           regular        STANDARD       1   \n",
       "2            3  BetterBot           regular        STANDARD       1   \n",
       "3            4  BetterBot           regular        RESIGNED       0   \n",
       "4            5    STEEBot           regular        STANDARD       0   \n",
       "...        ...        ...               ...             ...     ...   \n",
       "72768    72769   browndav             blitz        STANDARD       0   \n",
       "72769    72770   HastyBot           regular            TIME       0   \n",
       "72770    72771   HastyBot           regular        STANDARD       0   \n",
       "72771    72772  Gtowngrad           regular        STANDARD       0   \n",
       "72772    72773   HastyBot           regular        STANDARD       1   \n",
       "\n",
       "                created_at lexicon  initial_time_seconds  increment_seconds  \\\n",
       "0      2022-08-26 03:38:49   NWL20                  1200                  0   \n",
       "1      2022-08-10 19:19:59   CSW21                  3600                  0   \n",
       "2      2022-09-04 08:04:27   CSW21                   900                  0   \n",
       "3      2022-09-12 02:36:19   CSW21                  3600                  0   \n",
       "4      2022-09-06 04:31:36   NWL20                  1200                  0   \n",
       "...                    ...     ...                   ...                ...   \n",
       "72768  2022-09-07 13:24:13   CSW21                   180                  0   \n",
       "72769  2022-09-04 00:13:24   CSW21                  3600                  0   \n",
       "72770  2022-09-19 03:28:44    ECWL                   900                  0   \n",
       "72771  2022-08-31 15:57:38   NWL20                   900                  0   \n",
       "72772  2022-08-27 09:13:08   CSW21                  1200                  0   \n",
       "\n",
       "      rating_mode  max_overtime_minutes  game_duration_seconds  \n",
       "0          CASUAL                     1             674.844274  \n",
       "1           RATED                     1             364.214418  \n",
       "2           RATED                     5             492.268262  \n",
       "3          CASUAL                     1             350.861141  \n",
       "4          CASUAL                     1             642.688722  \n",
       "...           ...                   ...                    ...  \n",
       "72768       RATED                     1             218.043751  \n",
       "72769       RATED                     1            3662.659287  \n",
       "72770      CASUAL                    10             236.133634  \n",
       "72771       RATED                     1             681.370077  \n",
       "72772       RATED                     1             719.720262  \n",
       "\n",
       "[72773 rows x 12 columns]"
      ]
     },
     "execution_count": 3,
     "metadata": {},
     "output_type": "execute_result"
    }
   ],
   "source": [
    "games"
   ]
  },
  {
   "cell_type": "code",
   "execution_count": 4,
   "id": "50d5d25d",
   "metadata": {
    "execution": {
     "iopub.execute_input": "2022-11-30T09:34:47.467536Z",
     "iopub.status.busy": "2022-11-30T09:34:47.467142Z",
     "iopub.status.idle": "2022-11-30T09:34:47.481968Z",
     "shell.execute_reply": "2022-11-30T09:34:47.480893Z"
    },
    "papermill": {
     "duration": 0.028762,
     "end_time": "2022-11-30T09:34:47.484486",
     "exception": false,
     "start_time": "2022-11-30T09:34:47.455724",
     "status": "completed"
    },
    "tags": []
   },
   "outputs": [
    {
     "data": {
      "text/html": [
       "<div>\n",
       "<style scoped>\n",
       "    .dataframe tbody tr th:only-of-type {\n",
       "        vertical-align: middle;\n",
       "    }\n",
       "\n",
       "    .dataframe tbody tr th {\n",
       "        vertical-align: top;\n",
       "    }\n",
       "\n",
       "    .dataframe thead th {\n",
       "        text-align: right;\n",
       "    }\n",
       "</style>\n",
       "<table border=\"1\" class=\"dataframe\">\n",
       "  <thead>\n",
       "    <tr style=\"text-align: right;\">\n",
       "      <th></th>\n",
       "      <th>game_id</th>\n",
       "      <th>nickname</th>\n",
       "      <th>score</th>\n",
       "      <th>rating</th>\n",
       "    </tr>\n",
       "  </thead>\n",
       "  <tbody>\n",
       "    <tr>\n",
       "      <th>0</th>\n",
       "      <td>2</td>\n",
       "      <td>Super</td>\n",
       "      <td>488</td>\n",
       "      <td>NaN</td>\n",
       "    </tr>\n",
       "    <tr>\n",
       "      <th>1</th>\n",
       "      <td>2</td>\n",
       "      <td>BetterBot</td>\n",
       "      <td>401</td>\n",
       "      <td>2000.0</td>\n",
       "    </tr>\n",
       "    <tr>\n",
       "      <th>2</th>\n",
       "      <td>7</td>\n",
       "      <td>STEEBot</td>\n",
       "      <td>377</td>\n",
       "      <td>2082.0</td>\n",
       "    </tr>\n",
       "    <tr>\n",
       "      <th>3</th>\n",
       "      <td>7</td>\n",
       "      <td>Priya1</td>\n",
       "      <td>379</td>\n",
       "      <td>NaN</td>\n",
       "    </tr>\n",
       "    <tr>\n",
       "      <th>4</th>\n",
       "      <td>11</td>\n",
       "      <td>STEEBot</td>\n",
       "      <td>334</td>\n",
       "      <td>1829.0</td>\n",
       "    </tr>\n",
       "    <tr>\n",
       "      <th>...</th>\n",
       "      <td>...</td>\n",
       "      <td>...</td>\n",
       "      <td>...</td>\n",
       "      <td>...</td>\n",
       "    </tr>\n",
       "    <tr>\n",
       "      <th>44721</th>\n",
       "      <td>72762</td>\n",
       "      <td>kyjo55555</td>\n",
       "      <td>367</td>\n",
       "      <td>NaN</td>\n",
       "    </tr>\n",
       "    <tr>\n",
       "      <th>44722</th>\n",
       "      <td>72768</td>\n",
       "      <td>HastyBot</td>\n",
       "      <td>524</td>\n",
       "      <td>2356.0</td>\n",
       "    </tr>\n",
       "    <tr>\n",
       "      <th>44723</th>\n",
       "      <td>72768</td>\n",
       "      <td>Maximilian</td>\n",
       "      <td>357</td>\n",
       "      <td>NaN</td>\n",
       "    </tr>\n",
       "    <tr>\n",
       "      <th>44724</th>\n",
       "      <td>72769</td>\n",
       "      <td>STEEBot</td>\n",
       "      <td>626</td>\n",
       "      <td>2110.0</td>\n",
       "    </tr>\n",
       "    <tr>\n",
       "      <th>44725</th>\n",
       "      <td>72769</td>\n",
       "      <td>browndav</td>\n",
       "      <td>384</td>\n",
       "      <td>NaN</td>\n",
       "    </tr>\n",
       "  </tbody>\n",
       "</table>\n",
       "<p>44726 rows × 4 columns</p>\n",
       "</div>"
      ],
      "text/plain": [
       "       game_id    nickname  score  rating\n",
       "0            2       Super    488     NaN\n",
       "1            2   BetterBot    401  2000.0\n",
       "2            7     STEEBot    377  2082.0\n",
       "3            7      Priya1    379     NaN\n",
       "4           11     STEEBot    334  1829.0\n",
       "...        ...         ...    ...     ...\n",
       "44721    72762   kyjo55555    367     NaN\n",
       "44722    72768    HastyBot    524  2356.0\n",
       "44723    72768  Maximilian    357     NaN\n",
       "44724    72769     STEEBot    626  2110.0\n",
       "44725    72769    browndav    384     NaN\n",
       "\n",
       "[44726 rows x 4 columns]"
      ]
     },
     "execution_count": 4,
     "metadata": {},
     "output_type": "execute_result"
    }
   ],
   "source": [
    "test"
   ]
  },
  {
   "cell_type": "code",
   "execution_count": 5,
   "id": "a66f4d2f",
   "metadata": {
    "execution": {
     "iopub.execute_input": "2022-11-30T09:34:47.507691Z",
     "iopub.status.busy": "2022-11-30T09:34:47.507230Z",
     "iopub.status.idle": "2022-11-30T09:34:47.522521Z",
     "shell.execute_reply": "2022-11-30T09:34:47.521293Z"
    },
    "papermill": {
     "duration": 0.029736,
     "end_time": "2022-11-30T09:34:47.524971",
     "exception": false,
     "start_time": "2022-11-30T09:34:47.495235",
     "status": "completed"
    },
    "tags": []
   },
   "outputs": [
    {
     "data": {
      "text/html": [
       "<div>\n",
       "<style scoped>\n",
       "    .dataframe tbody tr th:only-of-type {\n",
       "        vertical-align: middle;\n",
       "    }\n",
       "\n",
       "    .dataframe tbody tr th {\n",
       "        vertical-align: top;\n",
       "    }\n",
       "\n",
       "    .dataframe thead th {\n",
       "        text-align: right;\n",
       "    }\n",
       "</style>\n",
       "<table border=\"1\" class=\"dataframe\">\n",
       "  <thead>\n",
       "    <tr style=\"text-align: right;\">\n",
       "      <th></th>\n",
       "      <th>game_id</th>\n",
       "      <th>nickname</th>\n",
       "      <th>score</th>\n",
       "      <th>rating</th>\n",
       "    </tr>\n",
       "  </thead>\n",
       "  <tbody>\n",
       "    <tr>\n",
       "      <th>0</th>\n",
       "      <td>1</td>\n",
       "      <td>BetterBot</td>\n",
       "      <td>335</td>\n",
       "      <td>1637</td>\n",
       "    </tr>\n",
       "    <tr>\n",
       "      <th>1</th>\n",
       "      <td>1</td>\n",
       "      <td>stevy</td>\n",
       "      <td>429</td>\n",
       "      <td>1500</td>\n",
       "    </tr>\n",
       "    <tr>\n",
       "      <th>2</th>\n",
       "      <td>3</td>\n",
       "      <td>davidavid</td>\n",
       "      <td>440</td>\n",
       "      <td>1811</td>\n",
       "    </tr>\n",
       "    <tr>\n",
       "      <th>3</th>\n",
       "      <td>3</td>\n",
       "      <td>BetterBot</td>\n",
       "      <td>318</td>\n",
       "      <td>2071</td>\n",
       "    </tr>\n",
       "    <tr>\n",
       "      <th>4</th>\n",
       "      <td>4</td>\n",
       "      <td>Inandoutworker</td>\n",
       "      <td>119</td>\n",
       "      <td>1473</td>\n",
       "    </tr>\n",
       "    <tr>\n",
       "      <th>...</th>\n",
       "      <td>...</td>\n",
       "      <td>...</td>\n",
       "      <td>...</td>\n",
       "      <td>...</td>\n",
       "    </tr>\n",
       "    <tr>\n",
       "      <th>100815</th>\n",
       "      <td>72771</td>\n",
       "      <td>HastyBot</td>\n",
       "      <td>393</td>\n",
       "      <td>1614</td>\n",
       "    </tr>\n",
       "    <tr>\n",
       "      <th>100816</th>\n",
       "      <td>72772</td>\n",
       "      <td>BetterBot</td>\n",
       "      <td>442</td>\n",
       "      <td>1674</td>\n",
       "    </tr>\n",
       "    <tr>\n",
       "      <th>100817</th>\n",
       "      <td>72772</td>\n",
       "      <td>Gtowngrad</td>\n",
       "      <td>388</td>\n",
       "      <td>1364</td>\n",
       "    </tr>\n",
       "    <tr>\n",
       "      <th>100818</th>\n",
       "      <td>72773</td>\n",
       "      <td>adola</td>\n",
       "      <td>383</td>\n",
       "      <td>2075</td>\n",
       "    </tr>\n",
       "    <tr>\n",
       "      <th>100819</th>\n",
       "      <td>72773</td>\n",
       "      <td>HastyBot</td>\n",
       "      <td>346</td>\n",
       "      <td>2302</td>\n",
       "    </tr>\n",
       "  </tbody>\n",
       "</table>\n",
       "<p>100820 rows × 4 columns</p>\n",
       "</div>"
      ],
      "text/plain": [
       "        game_id        nickname  score  rating\n",
       "0             1       BetterBot    335    1637\n",
       "1             1           stevy    429    1500\n",
       "2             3       davidavid    440    1811\n",
       "3             3       BetterBot    318    2071\n",
       "4             4  Inandoutworker    119    1473\n",
       "...         ...             ...    ...     ...\n",
       "100815    72771        HastyBot    393    1614\n",
       "100816    72772       BetterBot    442    1674\n",
       "100817    72772       Gtowngrad    388    1364\n",
       "100818    72773           adola    383    2075\n",
       "100819    72773        HastyBot    346    2302\n",
       "\n",
       "[100820 rows x 4 columns]"
      ]
     },
     "execution_count": 5,
     "metadata": {},
     "output_type": "execute_result"
    }
   ],
   "source": [
    "train"
   ]
  },
  {
   "cell_type": "code",
   "execution_count": 6,
   "id": "fa0f76cb",
   "metadata": {
    "execution": {
     "iopub.execute_input": "2022-11-30T09:34:47.548455Z",
     "iopub.status.busy": "2022-11-30T09:34:47.548032Z",
     "iopub.status.idle": "2022-11-30T09:34:47.732218Z",
     "shell.execute_reply": "2022-11-30T09:34:47.730951Z"
    },
    "papermill": {
     "duration": 0.198996,
     "end_time": "2022-11-30T09:34:47.735022",
     "exception": false,
     "start_time": "2022-11-30T09:34:47.536026",
     "status": "completed"
    },
    "tags": []
   },
   "outputs": [],
   "source": [
    "turns.drop(['score','nickname'],axis=1,inplace=True)"
   ]
  },
  {
   "cell_type": "markdown",
   "id": "66ebeb77",
   "metadata": {
    "papermill": {
     "duration": 0.010869,
     "end_time": "2022-11-30T09:34:47.756390",
     "exception": false,
     "start_time": "2022-11-30T09:34:47.745521",
     "status": "completed"
    },
    "tags": []
   },
   "source": [
    "**Data Cleaning**"
   ]
  },
  {
   "cell_type": "code",
   "execution_count": 7,
   "id": "22e81a6e",
   "metadata": {
    "execution": {
     "iopub.execute_input": "2022-11-30T09:34:47.778802Z",
     "iopub.status.busy": "2022-11-30T09:34:47.778346Z",
     "iopub.status.idle": "2022-11-30T09:34:47.785307Z",
     "shell.execute_reply": "2022-11-30T09:34:47.783943Z"
    },
    "papermill": {
     "duration": 0.021153,
     "end_time": "2022-11-30T09:34:47.788007",
     "exception": false,
     "start_time": "2022-11-30T09:34:47.766854",
     "status": "completed"
    },
    "tags": []
   },
   "outputs": [],
   "source": [
    "def dataframeCleanup(df):\n",
    "    df.drop_duplicates(subset=\"game_id\",inplace=True)\n",
    "    if(df.isna().sum().sum()>0 and df.isna().sum().sum()<20):\n",
    "        df.dropna(inplace=True)\n",
    "    else:\n",
    "        df.fillna(0)\n",
    "        \n",
    "    return df\n",
    "        "
   ]
  },
  {
   "cell_type": "code",
   "execution_count": 8,
   "id": "ac53c8e0",
   "metadata": {
    "execution": {
     "iopub.execute_input": "2022-11-30T09:34:47.811125Z",
     "iopub.status.busy": "2022-11-30T09:34:47.810718Z",
     "iopub.status.idle": "2022-11-30T09:34:48.183927Z",
     "shell.execute_reply": "2022-11-30T09:34:48.182836Z"
    },
    "papermill": {
     "duration": 0.387882,
     "end_time": "2022-11-30T09:34:48.186816",
     "exception": false,
     "start_time": "2022-11-30T09:34:47.798934",
     "status": "completed"
    },
    "tags": []
   },
   "outputs": [],
   "source": [
    "games_cleaned=dataframeCleanup(games)\n",
    "turns_cleaned=dataframeCleanup(turns)\n",
    "train_cleaned=dataframeCleanup(train)\n",
    "test_cleaned=dataframeCleanup(test)"
   ]
  },
  {
   "cell_type": "code",
   "execution_count": 9,
   "id": "7bed99d8",
   "metadata": {
    "execution": {
     "iopub.execute_input": "2022-11-30T09:34:48.209724Z",
     "iopub.status.busy": "2022-11-30T09:34:48.209247Z",
     "iopub.status.idle": "2022-11-30T09:34:48.464723Z",
     "shell.execute_reply": "2022-11-30T09:34:48.463170Z"
    },
    "papermill": {
     "duration": 0.270814,
     "end_time": "2022-11-30T09:34:48.467970",
     "exception": false,
     "start_time": "2022-11-30T09:34:48.197156",
     "status": "completed"
    },
    "tags": []
   },
   "outputs": [
    {
     "name": "stdout",
     "output_type": "stream",
     "text": [
      "<class 'pandas.core.frame.DataFrame'>\n",
      "Int64Index: 50410 entries, 0 to 50409\n",
      "Data columns (total 21 columns):\n",
      " #   Column                 Non-Null Count  Dtype  \n",
      "---  ------                 --------------  -----  \n",
      " 0   game_id                50410 non-null  int64  \n",
      " 1   nickname               50410 non-null  object \n",
      " 2   score                  50410 non-null  int64  \n",
      " 3   rating                 50410 non-null  int64  \n",
      " 4   turn_number            50410 non-null  int64  \n",
      " 5   rack                   50410 non-null  object \n",
      " 6   location               45853 non-null  object \n",
      " 7   move                   50405 non-null  object \n",
      " 8   points                 50410 non-null  int64  \n",
      " 9   turn_type              50409 non-null  object \n",
      " 10  first                  50410 non-null  object \n",
      " 11  time_control_name      50410 non-null  object \n",
      " 12  game_end_reason        50410 non-null  object \n",
      " 13  winner                 50410 non-null  int64  \n",
      " 14  created_at             50410 non-null  object \n",
      " 15  lexicon                50410 non-null  object \n",
      " 16  initial_time_seconds   50410 non-null  int64  \n",
      " 17  increment_seconds      50410 non-null  int64  \n",
      " 18  rating_mode            50410 non-null  object \n",
      " 19  max_overtime_minutes   50410 non-null  int64  \n",
      " 20  game_duration_seconds  50410 non-null  float64\n",
      "dtypes: float64(1), int64(9), object(11)\n",
      "memory usage: 8.5+ MB\n"
     ]
    }
   ],
   "source": [
    "train_merged = train_cleaned.merge(turns_cleaned,on='game_id').merge(games_cleaned,on='game_id')\n",
    "train_merged.info()\n",
    "test_merged=test_cleaned.merge(turns_cleaned,on='game_id').merge(games_cleaned,on='game_id')"
   ]
  },
  {
   "cell_type": "code",
   "execution_count": 10,
   "id": "c532f8e7",
   "metadata": {
    "execution": {
     "iopub.execute_input": "2022-11-30T09:34:48.491521Z",
     "iopub.status.busy": "2022-11-30T09:34:48.491086Z",
     "iopub.status.idle": "2022-11-30T09:34:48.496379Z",
     "shell.execute_reply": "2022-11-30T09:34:48.494902Z"
    },
    "papermill": {
     "duration": 0.019778,
     "end_time": "2022-11-30T09:34:48.498680",
     "exception": false,
     "start_time": "2022-11-30T09:34:48.478902",
     "status": "completed"
    },
    "tags": []
   },
   "outputs": [],
   "source": [
    "#train_merged.drop(['rating_x'], axis=1,inplace=True)"
   ]
  },
  {
   "cell_type": "markdown",
   "id": "6b55a725",
   "metadata": {
    "papermill": {
     "duration": 0.009938,
     "end_time": "2022-11-30T09:34:48.519063",
     "exception": false,
     "start_time": "2022-11-30T09:34:48.509125",
     "status": "completed"
    },
    "tags": []
   },
   "source": [
    "**Data Visualisation**"
   ]
  },
  {
   "cell_type": "code",
   "execution_count": 11,
   "id": "554bb8e7",
   "metadata": {
    "execution": {
     "iopub.execute_input": "2022-11-30T09:34:48.541576Z",
     "iopub.status.busy": "2022-11-30T09:34:48.540810Z",
     "iopub.status.idle": "2022-11-30T09:34:48.611710Z",
     "shell.execute_reply": "2022-11-30T09:34:48.610853Z"
    },
    "papermill": {
     "duration": 0.084661,
     "end_time": "2022-11-30T09:34:48.614003",
     "exception": false,
     "start_time": "2022-11-30T09:34:48.529342",
     "status": "completed"
    },
    "tags": []
   },
   "outputs": [
    {
     "data": {
      "text/html": [
       "<div>\n",
       "<style scoped>\n",
       "    .dataframe tbody tr th:only-of-type {\n",
       "        vertical-align: middle;\n",
       "    }\n",
       "\n",
       "    .dataframe tbody tr th {\n",
       "        vertical-align: top;\n",
       "    }\n",
       "\n",
       "    .dataframe thead th {\n",
       "        text-align: right;\n",
       "    }\n",
       "</style>\n",
       "<table border=\"1\" class=\"dataframe\">\n",
       "  <thead>\n",
       "    <tr style=\"text-align: right;\">\n",
       "      <th></th>\n",
       "      <th>game_id</th>\n",
       "      <th>nickname</th>\n",
       "      <th>score</th>\n",
       "      <th>rating</th>\n",
       "      <th>turn_number</th>\n",
       "      <th>rack</th>\n",
       "      <th>location</th>\n",
       "      <th>move</th>\n",
       "      <th>points</th>\n",
       "      <th>turn_type</th>\n",
       "      <th>...</th>\n",
       "      <th>time_control_name</th>\n",
       "      <th>game_end_reason</th>\n",
       "      <th>winner</th>\n",
       "      <th>created_at</th>\n",
       "      <th>lexicon</th>\n",
       "      <th>initial_time_seconds</th>\n",
       "      <th>increment_seconds</th>\n",
       "      <th>rating_mode</th>\n",
       "      <th>max_overtime_minutes</th>\n",
       "      <th>game_duration_seconds</th>\n",
       "    </tr>\n",
       "  </thead>\n",
       "  <tbody>\n",
       "    <tr>\n",
       "      <th>0</th>\n",
       "      <td>1</td>\n",
       "      <td>BetterBot</td>\n",
       "      <td>335</td>\n",
       "      <td>1637</td>\n",
       "      <td>1</td>\n",
       "      <td>DDEGITT</td>\n",
       "      <td>8G</td>\n",
       "      <td>DIG</td>\n",
       "      <td>10</td>\n",
       "      <td>Play</td>\n",
       "      <td>...</td>\n",
       "      <td>regular</td>\n",
       "      <td>STANDARD</td>\n",
       "      <td>1</td>\n",
       "      <td>2022-08-26 03:38:49</td>\n",
       "      <td>NWL20</td>\n",
       "      <td>1200</td>\n",
       "      <td>0</td>\n",
       "      <td>CASUAL</td>\n",
       "      <td>1</td>\n",
       "      <td>674.844274</td>\n",
       "    </tr>\n",
       "    <tr>\n",
       "      <th>1</th>\n",
       "      <td>3</td>\n",
       "      <td>davidavid</td>\n",
       "      <td>440</td>\n",
       "      <td>1811</td>\n",
       "      <td>1</td>\n",
       "      <td>AJNOPQS</td>\n",
       "      <td>NaN</td>\n",
       "      <td>-JQ</td>\n",
       "      <td>0</td>\n",
       "      <td>Exchange</td>\n",
       "      <td>...</td>\n",
       "      <td>regular</td>\n",
       "      <td>STANDARD</td>\n",
       "      <td>1</td>\n",
       "      <td>2022-09-04 08:04:27</td>\n",
       "      <td>CSW21</td>\n",
       "      <td>900</td>\n",
       "      <td>0</td>\n",
       "      <td>RATED</td>\n",
       "      <td>5</td>\n",
       "      <td>492.268262</td>\n",
       "    </tr>\n",
       "    <tr>\n",
       "      <th>2</th>\n",
       "      <td>4</td>\n",
       "      <td>Inandoutworker</td>\n",
       "      <td>119</td>\n",
       "      <td>1473</td>\n",
       "      <td>1</td>\n",
       "      <td>ADEMSTX</td>\n",
       "      <td>8D</td>\n",
       "      <td>MAXED</td>\n",
       "      <td>36</td>\n",
       "      <td>Play</td>\n",
       "      <td>...</td>\n",
       "      <td>regular</td>\n",
       "      <td>RESIGNED</td>\n",
       "      <td>0</td>\n",
       "      <td>2022-09-12 02:36:19</td>\n",
       "      <td>CSW21</td>\n",
       "      <td>3600</td>\n",
       "      <td>0</td>\n",
       "      <td>CASUAL</td>\n",
       "      <td>1</td>\n",
       "      <td>350.861141</td>\n",
       "    </tr>\n",
       "    <tr>\n",
       "      <th>3</th>\n",
       "      <td>5</td>\n",
       "      <td>stevy</td>\n",
       "      <td>325</td>\n",
       "      <td>1500</td>\n",
       "      <td>1</td>\n",
       "      <td>DIILPST</td>\n",
       "      <td>8H</td>\n",
       "      <td>LIPID</td>\n",
       "      <td>20</td>\n",
       "      <td>Play</td>\n",
       "      <td>...</td>\n",
       "      <td>regular</td>\n",
       "      <td>STANDARD</td>\n",
       "      <td>0</td>\n",
       "      <td>2022-09-06 04:31:36</td>\n",
       "      <td>NWL20</td>\n",
       "      <td>1200</td>\n",
       "      <td>0</td>\n",
       "      <td>CASUAL</td>\n",
       "      <td>1</td>\n",
       "      <td>642.688722</td>\n",
       "    </tr>\n",
       "    <tr>\n",
       "      <th>4</th>\n",
       "      <td>6</td>\n",
       "      <td>HivinD</td>\n",
       "      <td>378</td>\n",
       "      <td>2029</td>\n",
       "      <td>1</td>\n",
       "      <td>DEEKNNO</td>\n",
       "      <td>8D</td>\n",
       "      <td>KENDO</td>\n",
       "      <td>30</td>\n",
       "      <td>Play</td>\n",
       "      <td>...</td>\n",
       "      <td>regular</td>\n",
       "      <td>STANDARD</td>\n",
       "      <td>0</td>\n",
       "      <td>2022-08-21 14:56:35</td>\n",
       "      <td>CSW21</td>\n",
       "      <td>900</td>\n",
       "      <td>0</td>\n",
       "      <td>RATED</td>\n",
       "      <td>1</td>\n",
       "      <td>426.950541</td>\n",
       "    </tr>\n",
       "    <tr>\n",
       "      <th>...</th>\n",
       "      <td>...</td>\n",
       "      <td>...</td>\n",
       "      <td>...</td>\n",
       "      <td>...</td>\n",
       "      <td>...</td>\n",
       "      <td>...</td>\n",
       "      <td>...</td>\n",
       "      <td>...</td>\n",
       "      <td>...</td>\n",
       "      <td>...</td>\n",
       "      <td>...</td>\n",
       "      <td>...</td>\n",
       "      <td>...</td>\n",
       "      <td>...</td>\n",
       "      <td>...</td>\n",
       "      <td>...</td>\n",
       "      <td>...</td>\n",
       "      <td>...</td>\n",
       "      <td>...</td>\n",
       "      <td>...</td>\n",
       "      <td>...</td>\n",
       "    </tr>\n",
       "    <tr>\n",
       "      <th>50405</th>\n",
       "      <td>72767</td>\n",
       "      <td>HAYDEN</td>\n",
       "      <td>340</td>\n",
       "      <td>1395</td>\n",
       "      <td>1</td>\n",
       "      <td>AAILNSY</td>\n",
       "      <td>8H</td>\n",
       "      <td>INLAY</td>\n",
       "      <td>24</td>\n",
       "      <td>Play</td>\n",
       "      <td>...</td>\n",
       "      <td>regular</td>\n",
       "      <td>TIME</td>\n",
       "      <td>0</td>\n",
       "      <td>2022-09-05 04:35:56</td>\n",
       "      <td>CSW21</td>\n",
       "      <td>3600</td>\n",
       "      <td>0</td>\n",
       "      <td>CASUAL</td>\n",
       "      <td>1</td>\n",
       "      <td>3669.988413</td>\n",
       "    </tr>\n",
       "    <tr>\n",
       "      <th>50406</th>\n",
       "      <td>72770</td>\n",
       "      <td>HastyBot</td>\n",
       "      <td>590</td>\n",
       "      <td>2237</td>\n",
       "      <td>1</td>\n",
       "      <td>BEIINUW</td>\n",
       "      <td>8F</td>\n",
       "      <td>IWI</td>\n",
       "      <td>12</td>\n",
       "      <td>Play</td>\n",
       "      <td>...</td>\n",
       "      <td>regular</td>\n",
       "      <td>TIME</td>\n",
       "      <td>0</td>\n",
       "      <td>2022-09-04 00:13:24</td>\n",
       "      <td>CSW21</td>\n",
       "      <td>3600</td>\n",
       "      <td>0</td>\n",
       "      <td>RATED</td>\n",
       "      <td>1</td>\n",
       "      <td>3662.659287</td>\n",
       "    </tr>\n",
       "    <tr>\n",
       "      <th>50407</th>\n",
       "      <td>72771</td>\n",
       "      <td>BB-8</td>\n",
       "      <td>390</td>\n",
       "      <td>1500</td>\n",
       "      <td>1</td>\n",
       "      <td>ACDJNPR</td>\n",
       "      <td>8G</td>\n",
       "      <td>JAR</td>\n",
       "      <td>20</td>\n",
       "      <td>Play</td>\n",
       "      <td>...</td>\n",
       "      <td>regular</td>\n",
       "      <td>STANDARD</td>\n",
       "      <td>0</td>\n",
       "      <td>2022-09-19 03:28:44</td>\n",
       "      <td>ECWL</td>\n",
       "      <td>900</td>\n",
       "      <td>0</td>\n",
       "      <td>CASUAL</td>\n",
       "      <td>10</td>\n",
       "      <td>236.133634</td>\n",
       "    </tr>\n",
       "    <tr>\n",
       "      <th>50408</th>\n",
       "      <td>72772</td>\n",
       "      <td>BetterBot</td>\n",
       "      <td>442</td>\n",
       "      <td>1674</td>\n",
       "      <td>1</td>\n",
       "      <td>?AEOSUY</td>\n",
       "      <td>8G</td>\n",
       "      <td>SOY</td>\n",
       "      <td>12</td>\n",
       "      <td>Play</td>\n",
       "      <td>...</td>\n",
       "      <td>regular</td>\n",
       "      <td>STANDARD</td>\n",
       "      <td>0</td>\n",
       "      <td>2022-08-31 15:57:38</td>\n",
       "      <td>NWL20</td>\n",
       "      <td>900</td>\n",
       "      <td>0</td>\n",
       "      <td>RATED</td>\n",
       "      <td>1</td>\n",
       "      <td>681.370077</td>\n",
       "    </tr>\n",
       "    <tr>\n",
       "      <th>50409</th>\n",
       "      <td>72773</td>\n",
       "      <td>adola</td>\n",
       "      <td>383</td>\n",
       "      <td>2075</td>\n",
       "      <td>1</td>\n",
       "      <td>ACELOOX</td>\n",
       "      <td>8D</td>\n",
       "      <td>COXAL</td>\n",
       "      <td>34</td>\n",
       "      <td>Play</td>\n",
       "      <td>...</td>\n",
       "      <td>regular</td>\n",
       "      <td>STANDARD</td>\n",
       "      <td>1</td>\n",
       "      <td>2022-08-27 09:13:08</td>\n",
       "      <td>CSW21</td>\n",
       "      <td>1200</td>\n",
       "      <td>0</td>\n",
       "      <td>RATED</td>\n",
       "      <td>1</td>\n",
       "      <td>719.720262</td>\n",
       "    </tr>\n",
       "  </tbody>\n",
       "</table>\n",
       "<p>50410 rows × 21 columns</p>\n",
       "</div>"
      ],
      "text/plain": [
       "       game_id        nickname  score  rating  turn_number     rack location  \\\n",
       "0            1       BetterBot    335    1637            1  DDEGITT       8G   \n",
       "1            3       davidavid    440    1811            1  AJNOPQS      NaN   \n",
       "2            4  Inandoutworker    119    1473            1  ADEMSTX       8D   \n",
       "3            5           stevy    325    1500            1  DIILPST       8H   \n",
       "4            6          HivinD    378    2029            1  DEEKNNO       8D   \n",
       "...        ...             ...    ...     ...          ...      ...      ...   \n",
       "50405    72767          HAYDEN    340    1395            1  AAILNSY       8H   \n",
       "50406    72770        HastyBot    590    2237            1  BEIINUW       8F   \n",
       "50407    72771            BB-8    390    1500            1  ACDJNPR       8G   \n",
       "50408    72772       BetterBot    442    1674            1  ?AEOSUY       8G   \n",
       "50409    72773           adola    383    2075            1  ACELOOX       8D   \n",
       "\n",
       "        move  points turn_type  ... time_control_name game_end_reason winner  \\\n",
       "0        DIG      10      Play  ...           regular        STANDARD      1   \n",
       "1        -JQ       0  Exchange  ...           regular        STANDARD      1   \n",
       "2      MAXED      36      Play  ...           regular        RESIGNED      0   \n",
       "3      LIPID      20      Play  ...           regular        STANDARD      0   \n",
       "4      KENDO      30      Play  ...           regular        STANDARD      0   \n",
       "...      ...     ...       ...  ...               ...             ...    ...   \n",
       "50405  INLAY      24      Play  ...           regular            TIME      0   \n",
       "50406    IWI      12      Play  ...           regular            TIME      0   \n",
       "50407    JAR      20      Play  ...           regular        STANDARD      0   \n",
       "50408    SOY      12      Play  ...           regular        STANDARD      0   \n",
       "50409  COXAL      34      Play  ...           regular        STANDARD      1   \n",
       "\n",
       "                created_at lexicon initial_time_seconds  increment_seconds  \\\n",
       "0      2022-08-26 03:38:49   NWL20                 1200                  0   \n",
       "1      2022-09-04 08:04:27   CSW21                  900                  0   \n",
       "2      2022-09-12 02:36:19   CSW21                 3600                  0   \n",
       "3      2022-09-06 04:31:36   NWL20                 1200                  0   \n",
       "4      2022-08-21 14:56:35   CSW21                  900                  0   \n",
       "...                    ...     ...                  ...                ...   \n",
       "50405  2022-09-05 04:35:56   CSW21                 3600                  0   \n",
       "50406  2022-09-04 00:13:24   CSW21                 3600                  0   \n",
       "50407  2022-09-19 03:28:44    ECWL                  900                  0   \n",
       "50408  2022-08-31 15:57:38   NWL20                  900                  0   \n",
       "50409  2022-08-27 09:13:08   CSW21                 1200                  0   \n",
       "\n",
       "       rating_mode max_overtime_minutes  game_duration_seconds  \n",
       "0           CASUAL                    1             674.844274  \n",
       "1            RATED                    5             492.268262  \n",
       "2           CASUAL                    1             350.861141  \n",
       "3           CASUAL                    1             642.688722  \n",
       "4            RATED                    1             426.950541  \n",
       "...            ...                  ...                    ...  \n",
       "50405       CASUAL                    1            3669.988413  \n",
       "50406        RATED                    1            3662.659287  \n",
       "50407       CASUAL                   10             236.133634  \n",
       "50408        RATED                    1             681.370077  \n",
       "50409        RATED                    1             719.720262  \n",
       "\n",
       "[50410 rows x 21 columns]"
      ]
     },
     "execution_count": 11,
     "metadata": {},
     "output_type": "execute_result"
    }
   ],
   "source": [
    "train_merged"
   ]
  },
  {
   "cell_type": "code",
   "execution_count": 12,
   "id": "9ecacfe6",
   "metadata": {
    "execution": {
     "iopub.execute_input": "2022-11-30T09:34:48.638439Z",
     "iopub.status.busy": "2022-11-30T09:34:48.637187Z",
     "iopub.status.idle": "2022-11-30T09:34:48.645864Z",
     "shell.execute_reply": "2022-11-30T09:34:48.644828Z"
    },
    "papermill": {
     "duration": 0.023148,
     "end_time": "2022-11-30T09:34:48.648204",
     "exception": false,
     "start_time": "2022-11-30T09:34:48.625056",
     "status": "completed"
    },
    "tags": []
   },
   "outputs": [],
   "source": [
    "def dataVisualisation(data,y,title):\n",
    "    # fig,ax=plt.subplots(1,1,sharex=True,figsize=(10,10))\n",
    "    # ax[0].set_title(title,fontsize=15)\n",
    "    #sns.boxplot(data=data,x=y,ax=ax[0])\n",
    "    sns.displot(data[y],kde=True)\n",
    "    plt.axvline(data[y].mean(), color='darkgreen', linewidth=2.2, label='mean=' + str(np.round(data[y].mean(),1)) + ' ')\n",
    "    plt.axvline(data[y].median(), color='red', linewidth=2.2, label='median='+ str(np.round(data[y].median(),1)) +' ')\n",
    "    plt.axvline(data[y].mode()[0], color='purple', linewidth=2.2, label='mode='+ str(data[y].mode()[0]) + ' ')\n",
    "    plt.title(title)\n",
    "    plt.legend()\n",
    "    plt.show()\n",
    "    "
   ]
  },
  {
   "cell_type": "code",
   "execution_count": 13,
   "id": "2cdf3dd0",
   "metadata": {
    "execution": {
     "iopub.execute_input": "2022-11-30T09:34:48.672014Z",
     "iopub.status.busy": "2022-11-30T09:34:48.671229Z",
     "iopub.status.idle": "2022-11-30T09:34:48.721085Z",
     "shell.execute_reply": "2022-11-30T09:34:48.719357Z"
    },
    "papermill": {
     "duration": 0.064923,
     "end_time": "2022-11-30T09:34:48.723963",
     "exception": false,
     "start_time": "2022-11-30T09:34:48.659040",
     "status": "completed"
    },
    "tags": []
   },
   "outputs": [
    {
     "name": "stdout",
     "output_type": "stream",
     "text": [
      "<class 'pandas.core.frame.DataFrame'>\n",
      "Int64Index: 50410 entries, 0 to 50409\n",
      "Data columns (total 21 columns):\n",
      " #   Column                 Non-Null Count  Dtype  \n",
      "---  ------                 --------------  -----  \n",
      " 0   game_id                50410 non-null  int64  \n",
      " 1   nickname               50410 non-null  object \n",
      " 2   score                  50410 non-null  int64  \n",
      " 3   rating                 50410 non-null  int64  \n",
      " 4   turn_number            50410 non-null  int64  \n",
      " 5   rack                   50410 non-null  object \n",
      " 6   location               45853 non-null  object \n",
      " 7   move                   50405 non-null  object \n",
      " 8   points                 50410 non-null  int64  \n",
      " 9   turn_type              50409 non-null  object \n",
      " 10  first                  50410 non-null  object \n",
      " 11  time_control_name      50410 non-null  object \n",
      " 12  game_end_reason        50410 non-null  object \n",
      " 13  winner                 50410 non-null  int64  \n",
      " 14  created_at             50410 non-null  object \n",
      " 15  lexicon                50410 non-null  object \n",
      " 16  initial_time_seconds   50410 non-null  int64  \n",
      " 17  increment_seconds      50410 non-null  int64  \n",
      " 18  rating_mode            50410 non-null  object \n",
      " 19  max_overtime_minutes   50410 non-null  int64  \n",
      " 20  game_duration_seconds  50410 non-null  float64\n",
      "dtypes: float64(1), int64(9), object(11)\n",
      "memory usage: 8.5+ MB\n"
     ]
    }
   ],
   "source": [
    "train_merged.info()"
   ]
  },
  {
   "cell_type": "code",
   "execution_count": 14,
   "id": "722a015b",
   "metadata": {
    "execution": {
     "iopub.execute_input": "2022-11-30T09:34:48.748006Z",
     "iopub.status.busy": "2022-11-30T09:34:48.747554Z",
     "iopub.status.idle": "2022-11-30T09:34:48.752605Z",
     "shell.execute_reply": "2022-11-30T09:34:48.751334Z"
    },
    "papermill": {
     "duration": 0.019725,
     "end_time": "2022-11-30T09:34:48.754820",
     "exception": false,
     "start_time": "2022-11-30T09:34:48.735095",
     "status": "completed"
    },
    "tags": []
   },
   "outputs": [],
   "source": [
    "#train_merged['nickname_x'].dtype"
   ]
  },
  {
   "cell_type": "code",
   "execution_count": 15,
   "id": "8047412f",
   "metadata": {
    "execution": {
     "iopub.execute_input": "2022-11-30T09:34:48.779429Z",
     "iopub.status.busy": "2022-11-30T09:34:48.779034Z",
     "iopub.status.idle": "2022-11-30T09:34:56.700534Z",
     "shell.execute_reply": "2022-11-30T09:34:56.699367Z"
    },
    "papermill": {
     "duration": 7.937033,
     "end_time": "2022-11-30T09:34:56.703186",
     "exception": false,
     "start_time": "2022-11-30T09:34:48.766153",
     "status": "completed"
    },
    "tags": []
   },
   "outputs": [
    {
     "data": {
      "image/png": "[encoded data removed]",
      "text/plain": [
       "<Figure size 360x360 with 1 Axes>"
      ]
     },
     "metadata": {
      "needs_background": "light"
     },
     "output_type": "display_data"
    },
    {
     "data": {
      "image/png": "[encoded data removed]",
      "text/plain": [
       "<Figure size 360x360 with 1 Axes>"
      ]
     },
     "metadata": {
      "needs_background": "light"
     },
     "output_type": "display_data"
    },
    {
     "data": {
      "image/png": "[encoded data removed]",
      "text/plain": [
       "<Figure size 360x360 with 1 Axes>"
      ]
     },
     "metadata": {
      "needs_background": "light"
     },
     "output_type": "display_data"
    },
    {
     "data": {
      "image/png": "[encoded data removed]",
      "text/plain": [
       "<Figure size 360x360 with 1 Axes>"
      ]
     },
     "metadata": {
      "needs_background": "light"
     },
     "output_type": "display_data"
    },
    {
     "data": {
      "image/png": "[encoded data removed]",
      "text/plain": [
       "<Figure size 360x360 with 1 Axes>"
      ]
     },
     "metadata": {
      "needs_background": "light"
     },
     "output_type": "display_data"
    },
    {
     "data": {
      "image/png": "[encoded data removed]",
      "text/plain": [
       "<Figure size 360x360 with 1 Axes>"
      ]
     },
     "metadata": {
      "needs_background": "light"
     },
     "output_type": "display_data"
    },
    {
     "data": {
      "image/png": "[encoded data removed]",
      "text/plain": [
       "<Figure size 360x360 with 1 Axes>"
      ]
     },
     "metadata": {
      "needs_background": "light"
     },
     "output_type": "display_data"
    },
    {
     "data": {
      "image/png": "[encoded data removed]",
      "text/plain": [
       "<Figure size 360x360 with 1 Axes>"
      ]
     },
     "metadata": {
      "needs_background": "light"
     },
     "output_type": "display_data"
    },
    {
     "data": {
      "image/png": "[encoded data removed]",
      "text/plain": [
       "<Figure size 360x360 with 1 Axes>"
      ]
     },
     "metadata": {
      "needs_background": "light"
     },
     "output_type": "display_data"
    },
    {
     "data": {
      "image/png": "[encoded data removed]",
      "text/plain": [
       "<Figure size 360x360 with 1 Axes>"
      ]
     },
     "metadata": {
      "needs_background": "light"
     },
     "output_type": "display_data"
    }
   ],
   "source": [
    "for col in train_merged.columns:\n",
    "    if(not(train_merged[col].dtype=='object')):\n",
    "       \n",
    "        dataVisualisation(train_merged,col,col+\" Variations\")"
   ]
  },
  {
   "cell_type": "markdown",
   "id": "b0b71035",
   "metadata": {
    "papermill": {
     "duration": 0.014522,
     "end_time": "2022-11-30T09:34:56.732931",
     "exception": false,
     "start_time": "2022-11-30T09:34:56.718409",
     "status": "completed"
    },
    "tags": []
   },
   "source": []
  },
  {
   "cell_type": "code",
   "execution_count": 16,
   "id": "843affd8",
   "metadata": {
    "execution": {
     "iopub.execute_input": "2022-11-30T09:34:56.764218Z",
     "iopub.status.busy": "2022-11-30T09:34:56.763817Z",
     "iopub.status.idle": "2022-11-30T09:34:56.816578Z",
     "shell.execute_reply": "2022-11-30T09:34:56.814833Z"
    },
    "papermill": {
     "duration": 0.071844,
     "end_time": "2022-11-30T09:34:56.819493",
     "exception": false,
     "start_time": "2022-11-30T09:34:56.747649",
     "status": "completed"
    },
    "tags": []
   },
   "outputs": [
    {
     "name": "stdout",
     "output_type": "stream",
     "text": [
      "<class 'pandas.core.frame.DataFrame'>\n",
      "Int64Index: 50410 entries, 0 to 50409\n",
      "Data columns (total 21 columns):\n",
      " #   Column                 Non-Null Count  Dtype  \n",
      "---  ------                 --------------  -----  \n",
      " 0   game_id                50410 non-null  int64  \n",
      " 1   nickname               50410 non-null  object \n",
      " 2   score                  50410 non-null  int64  \n",
      " 3   rating                 50410 non-null  int64  \n",
      " 4   turn_number            50410 non-null  int64  \n",
      " 5   rack                   50410 non-null  object \n",
      " 6   location               45853 non-null  object \n",
      " 7   move                   50405 non-null  object \n",
      " 8   points                 50410 non-null  int64  \n",
      " 9   turn_type              50409 non-null  object \n",
      " 10  first                  50410 non-null  object \n",
      " 11  time_control_name      50410 non-null  object \n",
      " 12  game_end_reason        50410 non-null  object \n",
      " 13  winner                 50410 non-null  int64  \n",
      " 14  created_at             50410 non-null  object \n",
      " 15  lexicon                50410 non-null  object \n",
      " 16  initial_time_seconds   50410 non-null  int64  \n",
      " 17  increment_seconds      50410 non-null  int64  \n",
      " 18  rating_mode            50410 non-null  object \n",
      " 19  max_overtime_minutes   50410 non-null  int64  \n",
      " 20  game_duration_seconds  50410 non-null  float64\n",
      "dtypes: float64(1), int64(9), object(11)\n",
      "memory usage: 8.5+ MB\n"
     ]
    }
   ],
   "source": [
    "train_merged.info()"
   ]
  },
  {
   "cell_type": "markdown",
   "id": "d556c11f",
   "metadata": {
    "papermill": {
     "duration": 0.014404,
     "end_time": "2022-11-30T09:34:56.848842",
     "exception": false,
     "start_time": "2022-11-30T09:34:56.834438",
     "status": "completed"
    },
    "tags": []
   },
   "source": [
    "**Model**"
   ]
  },
  {
   "cell_type": "code",
   "execution_count": 17,
   "id": "3d28c1f7",
   "metadata": {
    "execution": {
     "iopub.execute_input": "2022-11-30T09:34:56.880308Z",
     "iopub.status.busy": "2022-11-30T09:34:56.879880Z",
     "iopub.status.idle": "2022-11-30T09:34:56.919988Z",
     "shell.execute_reply": "2022-11-30T09:34:56.918701Z"
    },
    "papermill": {
     "duration": 0.059107,
     "end_time": "2022-11-30T09:34:56.922678",
     "exception": false,
     "start_time": "2022-11-30T09:34:56.863571",
     "status": "completed"
    },
    "tags": []
   },
   "outputs": [],
   "source": [
    "train_X=train_merged[['game_id','score','points','game_duration_seconds']]\n",
    "train_y=train_merged['rating']\n",
    "train_X_copy=train_X.copy()\n",
    "\n"
   ]
  },
  {
   "cell_type": "code",
   "execution_count": 18,
   "id": "d19aaec9",
   "metadata": {
    "execution": {
     "iopub.execute_input": "2022-11-30T09:34:56.954703Z",
     "iopub.status.busy": "2022-11-30T09:34:56.954260Z",
     "iopub.status.idle": "2022-11-30T09:34:56.968702Z",
     "shell.execute_reply": "2022-11-30T09:34:56.967318Z"
    },
    "papermill": {
     "duration": 0.033512,
     "end_time": "2022-11-30T09:34:56.971256",
     "exception": false,
     "start_time": "2022-11-30T09:34:56.937744",
     "status": "completed"
    },
    "tags": []
   },
   "outputs": [],
   "source": [
    "scaler=StandardScaler()\n",
    "train_X_copy[['score','points','game_duration_seconds']]=scaler.fit_transform(train_X_copy[['score','points','game_duration_seconds']])\n"
   ]
  },
  {
   "cell_type": "code",
   "execution_count": 19,
   "id": "bf481b7f",
   "metadata": {
    "execution": {
     "iopub.execute_input": "2022-11-30T09:34:57.003650Z",
     "iopub.status.busy": "2022-11-30T09:34:57.003224Z",
     "iopub.status.idle": "2022-11-30T09:34:57.018846Z",
     "shell.execute_reply": "2022-11-30T09:34:57.017605Z"
    },
    "papermill": {
     "duration": 0.034782,
     "end_time": "2022-11-30T09:34:57.021405",
     "exception": false,
     "start_time": "2022-11-30T09:34:56.986623",
     "status": "completed"
    },
    "tags": []
   },
   "outputs": [
    {
     "data": {
      "text/html": [
       "<div>\n",
       "<style scoped>\n",
       "    .dataframe tbody tr th:only-of-type {\n",
       "        vertical-align: middle;\n",
       "    }\n",
       "\n",
       "    .dataframe tbody tr th {\n",
       "        vertical-align: top;\n",
       "    }\n",
       "\n",
       "    .dataframe thead th {\n",
       "        text-align: right;\n",
       "    }\n",
       "</style>\n",
       "<table border=\"1\" class=\"dataframe\">\n",
       "  <thead>\n",
       "    <tr style=\"text-align: right;\">\n",
       "      <th></th>\n",
       "      <th>game_id</th>\n",
       "      <th>score</th>\n",
       "      <th>points</th>\n",
       "      <th>game_duration_seconds</th>\n",
       "    </tr>\n",
       "  </thead>\n",
       "  <tbody>\n",
       "    <tr>\n",
       "      <th>0</th>\n",
       "      <td>1</td>\n",
       "      <td>-0.851119</td>\n",
       "      <td>-0.757230</td>\n",
       "      <td>0.551731</td>\n",
       "    </tr>\n",
       "    <tr>\n",
       "      <th>1</th>\n",
       "      <td>3</td>\n",
       "      <td>0.546882</td>\n",
       "      <td>-1.260215</td>\n",
       "      <td>-0.000567</td>\n",
       "    </tr>\n",
       "    <tr>\n",
       "      <th>2</th>\n",
       "      <td>4</td>\n",
       "      <td>-3.727008</td>\n",
       "      <td>0.550532</td>\n",
       "      <td>-0.428327</td>\n",
       "    </tr>\n",
       "    <tr>\n",
       "      <th>3</th>\n",
       "      <td>5</td>\n",
       "      <td>-0.984262</td>\n",
       "      <td>-0.254245</td>\n",
       "      <td>0.454460</td>\n",
       "    </tr>\n",
       "    <tr>\n",
       "      <th>4</th>\n",
       "      <td>6</td>\n",
       "      <td>-0.278605</td>\n",
       "      <td>0.248741</td>\n",
       "      <td>-0.198155</td>\n",
       "    </tr>\n",
       "    <tr>\n",
       "      <th>...</th>\n",
       "      <td>...</td>\n",
       "      <td>...</td>\n",
       "      <td>...</td>\n",
       "      <td>...</td>\n",
       "    </tr>\n",
       "    <tr>\n",
       "      <th>50405</th>\n",
       "      <td>72767</td>\n",
       "      <td>-0.784548</td>\n",
       "      <td>-0.053050</td>\n",
       "      <td>9.612131</td>\n",
       "    </tr>\n",
       "    <tr>\n",
       "      <th>50406</th>\n",
       "      <td>72770</td>\n",
       "      <td>2.544027</td>\n",
       "      <td>-0.656633</td>\n",
       "      <td>9.589960</td>\n",
       "    </tr>\n",
       "    <tr>\n",
       "      <th>50407</th>\n",
       "      <td>72771</td>\n",
       "      <td>-0.118833</td>\n",
       "      <td>-0.254245</td>\n",
       "      <td>-0.775381</td>\n",
       "    </tr>\n",
       "    <tr>\n",
       "      <th>50408</th>\n",
       "      <td>72772</td>\n",
       "      <td>0.573511</td>\n",
       "      <td>-0.656633</td>\n",
       "      <td>0.571472</td>\n",
       "    </tr>\n",
       "    <tr>\n",
       "      <th>50409</th>\n",
       "      <td>72773</td>\n",
       "      <td>-0.212033</td>\n",
       "      <td>0.449935</td>\n",
       "      <td>0.687482</td>\n",
       "    </tr>\n",
       "  </tbody>\n",
       "</table>\n",
       "<p>50410 rows × 4 columns</p>\n",
       "</div>"
      ],
      "text/plain": [
       "       game_id     score    points  game_duration_seconds\n",
       "0            1 -0.851119 -0.757230               0.551731\n",
       "1            3  0.546882 -1.260215              -0.000567\n",
       "2            4 -3.727008  0.550532              -0.428327\n",
       "3            5 -0.984262 -0.254245               0.454460\n",
       "4            6 -0.278605  0.248741              -0.198155\n",
       "...        ...       ...       ...                    ...\n",
       "50405    72767 -0.784548 -0.053050               9.612131\n",
       "50406    72770  2.544027 -0.656633               9.589960\n",
       "50407    72771 -0.118833 -0.254245              -0.775381\n",
       "50408    72772  0.573511 -0.656633               0.571472\n",
       "50409    72773 -0.212033  0.449935               0.687482\n",
       "\n",
       "[50410 rows x 4 columns]"
      ]
     },
     "execution_count": 19,
     "metadata": {},
     "output_type": "execute_result"
    }
   ],
   "source": [
    "train_X_copy\n",
    "#df=pd.DataFrame(train_X_scaled,columns=train_X.columns)"
   ]
  },
  {
   "cell_type": "code",
   "execution_count": 20,
   "id": "56a5cfc6",
   "metadata": {
    "execution": {
     "iopub.execute_input": "2022-11-30T09:34:57.055822Z",
     "iopub.status.busy": "2022-11-30T09:34:57.055370Z",
     "iopub.status.idle": "2022-11-30T09:35:01.009784Z",
     "shell.execute_reply": "2022-11-30T09:35:01.008334Z"
    },
    "papermill": {
     "duration": 3.97474,
     "end_time": "2022-11-30T09:35:01.012239",
     "exception": false,
     "start_time": "2022-11-30T09:34:57.037499",
     "status": "completed"
    },
    "tags": []
   },
   "outputs": [
    {
     "data": {
      "image/png": "[encoded data removed]",
      "text/plain": [
       "<Figure size 360x360 with 1 Axes>"
      ]
     },
     "metadata": {
      "needs_background": "light"
     },
     "output_type": "display_data"
    },
    {
     "data": {
      "image/png": "[encoded data removed]",
      "text/plain": [
       "<Figure size 360x360 with 1 Axes>"
      ]
     },
     "metadata": {
      "needs_background": "light"
     },
     "output_type": "display_data"
    },
    {
     "data": {
      "image/png": "[encoded data removed]",
      "text/plain": [
       "<Figure size 360x360 with 1 Axes>"
      ]
     },
     "metadata": {
      "needs_background": "light"
     },
     "output_type": "display_data"
    },
    {
     "data": {
      "image/png": "[encoded data removed]",
      "text/plain": [
       "<Figure size 360x360 with 1 Axes>"
      ]
     },
     "metadata": {
      "needs_background": "light"
     },
     "output_type": "display_data"
    }
   ],
   "source": [
    "for col in train_X_copy.columns:\n",
    "   \n",
    "        dataVisualisation(train_X_copy,col,col+\" Variations\")"
   ]
  },
  {
   "cell_type": "code",
   "execution_count": 21,
   "id": "83a96d2a",
   "metadata": {
    "execution": {
     "iopub.execute_input": "2022-11-30T09:35:01.049700Z",
     "iopub.status.busy": "2022-11-30T09:35:01.048562Z",
     "iopub.status.idle": "2022-11-30T09:35:01.164038Z",
     "shell.execute_reply": "2022-11-30T09:35:01.162762Z"
    },
    "papermill": {
     "duration": 0.137449,
     "end_time": "2022-11-30T09:35:01.167002",
     "exception": false,
     "start_time": "2022-11-30T09:35:01.029553",
     "status": "completed"
    },
    "tags": []
   },
   "outputs": [],
   "source": [
    "import xgboost as xgb"
   ]
  },
  {
   "cell_type": "code",
   "execution_count": 22,
   "id": "31dbdbbe",
   "metadata": {
    "execution": {
     "iopub.execute_input": "2022-11-30T09:35:01.203144Z",
     "iopub.status.busy": "2022-11-30T09:35:01.202739Z",
     "iopub.status.idle": "2022-11-30T09:35:01.207984Z",
     "shell.execute_reply": "2022-11-30T09:35:01.207045Z"
    },
    "papermill": {
     "duration": 0.026624,
     "end_time": "2022-11-30T09:35:01.210490",
     "exception": false,
     "start_time": "2022-11-30T09:35:01.183866",
     "status": "completed"
    },
    "tags": []
   },
   "outputs": [],
   "source": [
    "xgb_best = xgb.XGBRegressor(reg_lambda = 0.5667025244762842,\n",
    "                   alpha = 0.0016428787046581727,\n",
    "                   colsample_bytree = 0.9,\n",
    "                   subsample = 0.4,\n",
    "                   learning_rate = 0.05,\n",
    "                   n_estimators = 2000,\n",
    "                   max_depth = 7,\n",
    "                   min_child_weight = 1)"
   ]
  },
  {
   "cell_type": "code",
   "execution_count": 23,
   "id": "f91e90f5",
   "metadata": {
    "execution": {
     "iopub.execute_input": "2022-11-30T09:35:01.247828Z",
     "iopub.status.busy": "2022-11-30T09:35:01.246574Z",
     "iopub.status.idle": "2022-11-30T09:35:48.972041Z",
     "shell.execute_reply": "2022-11-30T09:35:48.970803Z"
    },
    "papermill": {
     "duration": 47.762115,
     "end_time": "2022-11-30T09:35:48.990420",
     "exception": false,
     "start_time": "2022-11-30T09:35:01.228305",
     "status": "completed"
    },
    "tags": []
   },
   "outputs": [
    {
     "data": {
      "text/plain": [
       "XGBRegressor(alpha=0.0016428787046581727, base_score=0.5, booster='gbtree',\n",
       "             callbacks=None, colsample_bylevel=1, colsample_bynode=1,\n",
       "             colsample_bytree=0.9, early_stopping_rounds=None,\n",
       "             enable_categorical=False, eval_metric=None, gamma=0, gpu_id=-1,\n",
       "             grow_policy='depthwise', importance_type=None,\n",
       "             interaction_constraints='', learning_rate=0.05, max_bin=256,\n",
       "             max_cat_to_onehot=4, max_delta_step=0, max_depth=7, max_leaves=0,\n",
       "             min_child_weight=1, missing=nan, monotone_constraints='()',\n",
       "             n_estimators=2000, n_jobs=0, num_parallel_tree=1, predictor='auto',\n",
       "             random_state=0, reg_alpha=0.00164287875, ...)"
      ]
     },
     "execution_count": 23,
     "metadata": {},
     "output_type": "execute_result"
    }
   ],
   "source": [
    "xgb_best.fit(train_X_copy, train_y)"
   ]
  },
  {
   "cell_type": "code",
   "execution_count": 24,
   "id": "521732f9",
   "metadata": {
    "execution": {
     "iopub.execute_input": "2022-11-30T09:35:49.027545Z",
     "iopub.status.busy": "2022-11-30T09:35:49.027089Z",
     "iopub.status.idle": "2022-11-30T09:35:49.043730Z",
     "shell.execute_reply": "2022-11-30T09:35:49.042720Z"
    },
    "papermill": {
     "duration": 0.038542,
     "end_time": "2022-11-30T09:35:49.046755",
     "exception": false,
     "start_time": "2022-11-30T09:35:49.008213",
     "status": "completed"
    },
    "tags": []
   },
   "outputs": [],
   "source": [
    "test_X=test_merged[['game_id','score','points','game_duration_seconds']]\n",
    "test_y=test_merged['rating']\n"
   ]
  },
  {
   "cell_type": "code",
   "execution_count": 25,
   "id": "41e2fd78",
   "metadata": {
    "execution": {
     "iopub.execute_input": "2022-11-30T09:35:49.082502Z",
     "iopub.status.busy": "2022-11-30T09:35:49.082046Z",
     "iopub.status.idle": "2022-11-30T09:35:49.100326Z",
     "shell.execute_reply": "2022-11-30T09:35:49.099073Z"
    },
    "papermill": {
     "duration": 0.039214,
     "end_time": "2022-11-30T09:35:49.103056",
     "exception": false,
     "start_time": "2022-11-30T09:35:49.063842",
     "status": "completed"
    },
    "tags": []
   },
   "outputs": [
    {
     "name": "stderr",
     "output_type": "stream",
     "text": [
      "/opt/conda/lib/python3.7/site-packages/pandas/core/frame.py:3678: SettingWithCopyWarning: \n",
      "A value is trying to be set on a copy of a slice from a DataFrame.\n",
      "Try using .loc[row_indexer,col_indexer] = value instead\n",
      "\n",
      "See the caveats in the documentation: https://pandas.pydata.org/pandas-docs/stable/user_guide/indexing.html#returning-a-view-versus-a-copy\n",
      "  self[col] = igetitem(value, i)\n"
     ]
    }
   ],
   "source": [
    "\n",
    "test_X[['score','points','game_duration_seconds']]=scaler.fit_transform(test_X[['score','points','game_duration_seconds']])"
   ]
  },
  {
   "cell_type": "code",
   "execution_count": 26,
   "id": "99ca6497",
   "metadata": {
    "execution": {
     "iopub.execute_input": "2022-11-30T09:35:49.140231Z",
     "iopub.status.busy": "2022-11-30T09:35:49.139529Z",
     "iopub.status.idle": "2022-11-30T09:35:49.733681Z",
     "shell.execute_reply": "2022-11-30T09:35:49.732641Z"
    },
    "papermill": {
     "duration": 0.615472,
     "end_time": "2022-11-30T09:35:49.736361",
     "exception": false,
     "start_time": "2022-11-30T09:35:49.120889",
     "status": "completed"
    },
    "tags": []
   },
   "outputs": [
    {
     "data": {
      "text/plain": [
       "array([2087.4963, 1984.9706, 1745.0681, ..., 1658.9948, 1873.3179,\n",
       "       1877.7697], dtype=float32)"
      ]
     },
     "execution_count": 26,
     "metadata": {},
     "output_type": "execute_result"
    }
   ],
   "source": [
    "predict_test_y=xgb_best.predict(test_X)\n",
    "predict_test_y"
   ]
  },
  {
   "cell_type": "code",
   "execution_count": 27,
   "id": "568765c1",
   "metadata": {
    "execution": {
     "iopub.execute_input": "2022-11-30T09:35:49.773402Z",
     "iopub.status.busy": "2022-11-30T09:35:49.772066Z",
     "iopub.status.idle": "2022-11-30T09:35:49.782118Z",
     "shell.execute_reply": "2022-11-30T09:35:49.780915Z"
    },
    "papermill": {
     "duration": 0.03095,
     "end_time": "2022-11-30T09:35:49.784550",
     "exception": false,
     "start_time": "2022-11-30T09:35:49.753600",
     "status": "completed"
    },
    "tags": []
   },
   "outputs": [
    {
     "data": {
      "text/plain": [
       "array([   0., 2082., 1829., ..., 1710., 2356., 2110.])"
      ]
     },
     "execution_count": 27,
     "metadata": {},
     "output_type": "execute_result"
    }
   ],
   "source": [
    "test_y.fillna(0,inplace=True)\n",
    "test_y=test_y.values\n",
    "test_y"
   ]
  },
  {
   "cell_type": "code",
   "execution_count": 28,
   "id": "4608eda8",
   "metadata": {
    "execution": {
     "iopub.execute_input": "2022-11-30T09:35:49.822303Z",
     "iopub.status.busy": "2022-11-30T09:35:49.821075Z",
     "iopub.status.idle": "2022-11-30T09:35:49.828121Z",
     "shell.execute_reply": "2022-11-30T09:35:49.826975Z"
    },
    "papermill": {
     "duration": 0.028373,
     "end_time": "2022-11-30T09:35:49.830623",
     "exception": false,
     "start_time": "2022-11-30T09:35:49.802250",
     "status": "completed"
    },
    "tags": []
   },
   "outputs": [
    {
     "data": {
      "text/plain": [
       "22363"
      ]
     },
     "execution_count": 28,
     "metadata": {},
     "output_type": "execute_result"
    }
   ],
   "source": [
    "len(test_y)\n"
   ]
  },
  {
   "cell_type": "code",
   "execution_count": 29,
   "id": "3a76dd1d",
   "metadata": {
    "execution": {
     "iopub.execute_input": "2022-11-30T09:35:49.867152Z",
     "iopub.status.busy": "2022-11-30T09:35:49.866756Z",
     "iopub.status.idle": "2022-11-30T09:35:49.873353Z",
     "shell.execute_reply": "2022-11-30T09:35:49.872025Z"
    },
    "papermill": {
     "duration": 0.027884,
     "end_time": "2022-11-30T09:35:49.875873",
     "exception": false,
     "start_time": "2022-11-30T09:35:49.847989",
     "status": "completed"
    },
    "tags": []
   },
   "outputs": [
    {
     "data": {
      "text/plain": [
       "22363"
      ]
     },
     "execution_count": 29,
     "metadata": {},
     "output_type": "execute_result"
    }
   ],
   "source": [
    "len(predict_test_y)"
   ]
  },
  {
   "cell_type": "code",
   "execution_count": 30,
   "id": "d5e0f5ec",
   "metadata": {
    "execution": {
     "iopub.execute_input": "2022-11-30T09:35:49.912854Z",
     "iopub.status.busy": "2022-11-30T09:35:49.912439Z",
     "iopub.status.idle": "2022-11-30T09:35:49.920446Z",
     "shell.execute_reply": "2022-11-30T09:35:49.919464Z"
    },
    "papermill": {
     "duration": 0.02901,
     "end_time": "2022-11-30T09:35:49.922592",
     "exception": false,
     "start_time": "2022-11-30T09:35:49.893582",
     "status": "completed"
    },
    "tags": []
   },
   "outputs": [
    {
     "data": {
      "text/plain": [
       "1007.8552031080129"
      ]
     },
     "execution_count": 30,
     "metadata": {},
     "output_type": "execute_result"
    }
   ],
   "source": [
    "mean_absolute_error(test_y,predict_test_y)"
   ]
  },
  {
   "cell_type": "code",
   "execution_count": 31,
   "id": "3e53a98d",
   "metadata": {
    "execution": {
     "iopub.execute_input": "2022-11-30T09:35:49.959994Z",
     "iopub.status.busy": "2022-11-30T09:35:49.959201Z",
     "iopub.status.idle": "2022-11-30T09:35:51.499779Z",
     "shell.execute_reply": "2022-11-30T09:35:51.498645Z"
    },
    "papermill": {
     "duration": 1.562417,
     "end_time": "2022-11-30T09:35:51.502681",
     "exception": false,
     "start_time": "2022-11-30T09:35:49.940264",
     "status": "completed"
    },
    "tags": []
   },
   "outputs": [
    {
     "data": {
      "text/plain": [
       "[<matplotlib.lines.Line2D at 0x7f1f9eed9390>]"
      ]
     },
     "execution_count": 31,
     "metadata": {},
     "output_type": "execute_result"
    },
    {
     "data": {
      "image/png": "[encoded data removed]",
      "text/plain": [
       "<Figure size 432x288 with 1 Axes>"
      ]
     },
     "metadata": {
      "needs_background": "light"
     },
     "output_type": "display_data"
    }
   ],
   "source": [
    "plt.plot(predict_test_y,test_y)\n"
   ]
  },
  {
   "cell_type": "code",
   "execution_count": 32,
   "id": "97804472",
   "metadata": {
    "execution": {
     "iopub.execute_input": "2022-11-30T09:35:51.541671Z",
     "iopub.status.busy": "2022-11-30T09:35:51.540578Z",
     "iopub.status.idle": "2022-11-30T09:35:51.547462Z",
     "shell.execute_reply": "2022-11-30T09:35:51.546615Z"
    },
    "papermill": {
     "duration": 0.028587,
     "end_time": "2022-11-30T09:35:51.549670",
     "exception": false,
     "start_time": "2022-11-30T09:35:51.521083",
     "status": "completed"
    },
    "tags": []
   },
   "outputs": [],
   "source": [
    "final_df=pd.DataFrame({\"game_id\":test_X['game_id'],\"rating\":predict_test_y})"
   ]
  },
  {
   "cell_type": "code",
   "execution_count": 33,
   "id": "b846034d",
   "metadata": {
    "execution": {
     "iopub.execute_input": "2022-11-30T09:35:51.588204Z",
     "iopub.status.busy": "2022-11-30T09:35:51.587514Z",
     "iopub.status.idle": "2022-11-30T09:35:51.599541Z",
     "shell.execute_reply": "2022-11-30T09:35:51.598357Z"
    },
    "papermill": {
     "duration": 0.033884,
     "end_time": "2022-11-30T09:35:51.601886",
     "exception": false,
     "start_time": "2022-11-30T09:35:51.568002",
     "status": "completed"
    },
    "tags": []
   },
   "outputs": [
    {
     "data": {
      "text/html": [
       "<div>\n",
       "<style scoped>\n",
       "    .dataframe tbody tr th:only-of-type {\n",
       "        vertical-align: middle;\n",
       "    }\n",
       "\n",
       "    .dataframe tbody tr th {\n",
       "        vertical-align: top;\n",
       "    }\n",
       "\n",
       "    .dataframe thead th {\n",
       "        text-align: right;\n",
       "    }\n",
       "</style>\n",
       "<table border=\"1\" class=\"dataframe\">\n",
       "  <thead>\n",
       "    <tr style=\"text-align: right;\">\n",
       "      <th></th>\n",
       "      <th>game_id</th>\n",
       "      <th>rating</th>\n",
       "    </tr>\n",
       "  </thead>\n",
       "  <tbody>\n",
       "    <tr>\n",
       "      <th>0</th>\n",
       "      <td>2</td>\n",
       "      <td>2087.496338</td>\n",
       "    </tr>\n",
       "    <tr>\n",
       "      <th>1</th>\n",
       "      <td>7</td>\n",
       "      <td>1984.970581</td>\n",
       "    </tr>\n",
       "    <tr>\n",
       "      <th>2</th>\n",
       "      <td>11</td>\n",
       "      <td>1745.068115</td>\n",
       "    </tr>\n",
       "    <tr>\n",
       "      <th>3</th>\n",
       "      <td>14</td>\n",
       "      <td>2152.723389</td>\n",
       "    </tr>\n",
       "    <tr>\n",
       "      <th>4</th>\n",
       "      <td>27</td>\n",
       "      <td>2198.595947</td>\n",
       "    </tr>\n",
       "    <tr>\n",
       "      <th>...</th>\n",
       "      <td>...</td>\n",
       "      <td>...</td>\n",
       "    </tr>\n",
       "    <tr>\n",
       "      <th>22358</th>\n",
       "      <td>72760</td>\n",
       "      <td>1780.594849</td>\n",
       "    </tr>\n",
       "    <tr>\n",
       "      <th>22359</th>\n",
       "      <td>72761</td>\n",
       "      <td>1567.271362</td>\n",
       "    </tr>\n",
       "    <tr>\n",
       "      <th>22360</th>\n",
       "      <td>72762</td>\n",
       "      <td>1658.994751</td>\n",
       "    </tr>\n",
       "    <tr>\n",
       "      <th>22361</th>\n",
       "      <td>72768</td>\n",
       "      <td>1873.317871</td>\n",
       "    </tr>\n",
       "    <tr>\n",
       "      <th>22362</th>\n",
       "      <td>72769</td>\n",
       "      <td>1877.769653</td>\n",
       "    </tr>\n",
       "  </tbody>\n",
       "</table>\n",
       "<p>22363 rows × 2 columns</p>\n",
       "</div>"
      ],
      "text/plain": [
       "       game_id       rating\n",
       "0            2  2087.496338\n",
       "1            7  1984.970581\n",
       "2           11  1745.068115\n",
       "3           14  2152.723389\n",
       "4           27  2198.595947\n",
       "...        ...          ...\n",
       "22358    72760  1780.594849\n",
       "22359    72761  1567.271362\n",
       "22360    72762  1658.994751\n",
       "22361    72768  1873.317871\n",
       "22362    72769  1877.769653\n",
       "\n",
       "[22363 rows x 2 columns]"
      ]
     },
     "execution_count": 33,
     "metadata": {},
     "output_type": "execute_result"
    }
   ],
   "source": [
    "final_df"
   ]
  },
  {
   "cell_type": "code",
   "execution_count": 34,
   "id": "9941ef47",
   "metadata": {
    "execution": {
     "iopub.execute_input": "2022-11-30T09:35:51.642051Z",
     "iopub.status.busy": "2022-11-30T09:35:51.641391Z",
     "iopub.status.idle": "2022-11-30T09:35:51.696370Z",
     "shell.execute_reply": "2022-11-30T09:35:51.695082Z"
    },
    "papermill": {
     "duration": 0.078701,
     "end_time": "2022-11-30T09:35:51.699176",
     "exception": false,
     "start_time": "2022-11-30T09:35:51.620475",
     "status": "completed"
    },
    "tags": []
   },
   "outputs": [],
   "source": [
    "final_df.to_csv('submission.csv')"
   ]
  },
  {
   "cell_type": "code",
   "execution_count": null,
   "id": "8d2a529a",
   "metadata": {
    "papermill": {
     "duration": 0.018216,
     "end_time": "2022-11-30T09:35:51.736022",
     "exception": false,
     "start_time": "2022-11-30T09:35:51.717806",
     "status": "completed"
    },
    "tags": []
   },
   "outputs": [],
   "source": []
  },
  {
   "cell_type": "code",
   "execution_count": null,
   "id": "c42d065a",
   "metadata": {
    "papermill": {
     "duration": 0.018156,
     "end_time": "2022-11-30T09:35:51.772921",
     "exception": false,
     "start_time": "2022-11-30T09:35:51.754765",
     "status": "completed"
    },
    "tags": []
   },
   "outputs": [],
   "source": []
  }
 ],
 "metadata": {
  "kernelspec": {
   "display_name": "Python 3",
   "language": "python",
   "name": "python3"
  },
  "language_info": {
   "codemirror_mode": {
    "name": "ipython",
    "version": 3
   },
   "file_extension": ".py",
   "mimetype": "text/x-python",
   "name": "python",
   "nbconvert_exporter": "python",
   "pygments_lexer": "ipython3",
   "version": "3.7.12"
  },
  "papermill": {
   "default_parameters": {},
   "duration": 80.497636,
   "end_time": "2022-11-30T09:35:52.616219",
   "environment_variables": {},
   "exception": null,
   "input_path": "__notebook__.ipynb",
   "output_path": "__notebook__.ipynb",
   "parameters": {},
   "start_time": "2022-11-30T09:34:32.118583",
   "version": "2.3.4"
  }
 },
 "nbformat": 4,
 "nbformat_minor": 5
}
